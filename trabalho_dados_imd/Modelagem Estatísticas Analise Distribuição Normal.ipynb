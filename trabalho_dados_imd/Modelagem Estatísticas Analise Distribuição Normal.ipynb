{
 "cells": [
  {
   "cell_type": "markdown",
   "metadata": {},
   "source": [
    "## Notas de Alunos do IMD\n",
    "### Análise sobre os dados"
   ]
  },
  {
   "cell_type": "code",
   "execution_count": 2,
   "metadata": {},
   "outputs": [],
   "source": [
    "import numpy as np\n",
    "import pandas as pd\n",
    "import scipy.stats as stats\n",
    "import matplotlib.pyplot as plt\n",
    "import seaborn as sns\n",
    "\n",
    "%matplotlib inline\n",
    "\n",
    "sns.set(style=\"white\", palette=\"muted\", color_codes=True)\n",
    "\n",
    "imd = pd.read_excel('imd_notas.xlsx')"
   ]
  },
  {
   "cell_type": "code",
   "execution_count": 3,
   "metadata": {},
   "outputs": [
    {
     "data": {
      "text/html": [
       "<div>\n",
       "<style scoped>\n",
       "    .dataframe tbody tr th:only-of-type {\n",
       "        vertical-align: middle;\n",
       "    }\n",
       "\n",
       "    .dataframe tbody tr th {\n",
       "        vertical-align: top;\n",
       "    }\n",
       "\n",
       "    .dataframe thead th {\n",
       "        text-align: right;\n",
       "    }\n",
       "</style>\n",
       "<table border=\"1\" class=\"dataframe\">\n",
       "  <thead>\n",
       "    <tr style=\"text-align: right;\">\n",
       "      <th></th>\n",
       "      <th>a_ID</th>\n",
       "      <th>CEP</th>\n",
       "      <th>ano_ingresso</th>\n",
       "      <th>periodo_ingresso</th>\n",
       "      <th>status</th>\n",
       "      <th>ano_disciplina</th>\n",
       "      <th>periodo_disciplina</th>\n",
       "      <th>nota</th>\n",
       "      <th>disciplina_ID</th>\n",
       "      <th>status.disciplina</th>\n",
       "      <th>enen-nota</th>\n",
       "    </tr>\n",
       "  </thead>\n",
       "  <tbody>\n",
       "    <tr>\n",
       "      <th>0</th>\n",
       "      <td>0</td>\n",
       "      <td>59015430</td>\n",
       "      <td>2014</td>\n",
       "      <td>1</td>\n",
       "      <td>CANCELADO</td>\n",
       "      <td>2014</td>\n",
       "      <td>2</td>\n",
       "      <td>2.6</td>\n",
       "      <td>0</td>\n",
       "      <td>Reprovado</td>\n",
       "      <td>618.0</td>\n",
       "    </tr>\n",
       "    <tr>\n",
       "      <th>1</th>\n",
       "      <td>0</td>\n",
       "      <td>59015430</td>\n",
       "      <td>2014</td>\n",
       "      <td>1</td>\n",
       "      <td>CANCELADO</td>\n",
       "      <td>2015</td>\n",
       "      <td>1</td>\n",
       "      <td>8.0</td>\n",
       "      <td>0</td>\n",
       "      <td>Aprovado</td>\n",
       "      <td>618.0</td>\n",
       "    </tr>\n",
       "    <tr>\n",
       "      <th>2</th>\n",
       "      <td>1</td>\n",
       "      <td>59073120</td>\n",
       "      <td>2014</td>\n",
       "      <td>1</td>\n",
       "      <td>CANCELADO</td>\n",
       "      <td>2014</td>\n",
       "      <td>2</td>\n",
       "      <td>0.1</td>\n",
       "      <td>0</td>\n",
       "      <td>Reprovado</td>\n",
       "      <td>615.0</td>\n",
       "    </tr>\n",
       "    <tr>\n",
       "      <th>3</th>\n",
       "      <td>2</td>\n",
       "      <td>59072580</td>\n",
       "      <td>2014</td>\n",
       "      <td>1</td>\n",
       "      <td>ATIVO</td>\n",
       "      <td>2014</td>\n",
       "      <td>2</td>\n",
       "      <td>6.1</td>\n",
       "      <td>0</td>\n",
       "      <td>Aprovado</td>\n",
       "      <td>600.0</td>\n",
       "    </tr>\n",
       "    <tr>\n",
       "      <th>4</th>\n",
       "      <td>3</td>\n",
       "      <td>59088150</td>\n",
       "      <td>2014</td>\n",
       "      <td>1</td>\n",
       "      <td>ATIVO</td>\n",
       "      <td>2014</td>\n",
       "      <td>1</td>\n",
       "      <td>3.0</td>\n",
       "      <td>0</td>\n",
       "      <td>Reprovado</td>\n",
       "      <td>673.0</td>\n",
       "    </tr>\n",
       "  </tbody>\n",
       "</table>\n",
       "</div>"
      ],
      "text/plain": [
       "   a_ID       CEP  ano_ingresso  periodo_ingresso     status  ano_disciplina  \\\n",
       "0     0  59015430          2014                 1  CANCELADO            2014   \n",
       "1     0  59015430          2014                 1  CANCELADO            2015   \n",
       "2     1  59073120          2014                 1  CANCELADO            2014   \n",
       "3     2  59072580          2014                 1      ATIVO            2014   \n",
       "4     3  59088150          2014                 1      ATIVO            2014   \n",
       "\n",
       "   periodo_disciplina  nota  disciplina_ID status.disciplina  enen-nota  \n",
       "0                   2   2.6              0         Reprovado      618.0  \n",
       "1                   1   8.0              0          Aprovado      618.0  \n",
       "2                   2   0.1              0         Reprovado      615.0  \n",
       "3                   2   6.1              0          Aprovado      600.0  \n",
       "4                   1   3.0              0         Reprovado      673.0  "
      ]
     },
     "execution_count": 3,
     "metadata": {},
     "output_type": "execute_result"
    }
   ],
   "source": [
    "imd.head()"
   ]
  },
  {
   "cell_type": "code",
   "execution_count": 4,
   "metadata": {},
   "outputs": [
    {
     "name": "stdout",
     "output_type": "stream",
     "text": [
      "<class 'pandas.core.frame.DataFrame'>\n",
      "Int64Index: 4842 entries, 0 to 4841\n",
      "Data columns (total 11 columns):\n",
      "a_ID                  4842 non-null int64\n",
      "CEP                   4842 non-null int64\n",
      "ano_ingresso          4842 non-null int64\n",
      "periodo_ingresso      4842 non-null int64\n",
      "status                4842 non-null object\n",
      "ano_disciplina        4842 non-null int64\n",
      "periodo_disciplina    4842 non-null int64\n",
      "nota                  4842 non-null float64\n",
      "disciplina_ID         4842 non-null int64\n",
      "status.disciplina     4842 non-null object\n",
      "enen-nota             4553 non-null float64\n",
      "dtypes: float64(2), int64(7), object(2)\n",
      "memory usage: 453.9+ KB\n"
     ]
    }
   ],
   "source": [
    "imd.info()"
   ]
  },
  {
   "cell_type": "code",
   "execution_count": 5,
   "metadata": {},
   "outputs": [
    {
     "name": "stdout",
     "output_type": "stream",
     "text": [
      "<class 'pandas.core.frame.DataFrame'>\n",
      "Int64Index: 4553 entries, 0 to 4841\n",
      "Data columns (total 11 columns):\n",
      "a_ID                  4553 non-null int64\n",
      "CEP                   4553 non-null int64\n",
      "ano_ingresso          4553 non-null int64\n",
      "periodo_ingresso      4553 non-null int64\n",
      "status                4553 non-null object\n",
      "ano_disciplina        4553 non-null int64\n",
      "periodo_disciplina    4553 non-null int64\n",
      "nota                  4553 non-null float64\n",
      "disciplina_ID         4553 non-null int64\n",
      "status.disciplina     4553 non-null object\n",
      "enen-nota             4553 non-null float64\n",
      "dtypes: float64(2), int64(7), object(2)\n",
      "memory usage: 426.8+ KB\n"
     ]
    }
   ],
   "source": [
    "imd = imd.loc[~pd.isnull(imd['enen-nota'])]\n",
    "imd.info()"
   ]
  },
  {
   "cell_type": "code",
   "execution_count": 6,
   "metadata": {},
   "outputs": [
    {
     "name": "stdout",
     "output_type": "stream",
     "text": [
      "1542 1856 1155\n"
     ]
    },
    {
     "data": {
      "text/html": [
       "<div>\n",
       "<style scoped>\n",
       "    .dataframe tbody tr th:only-of-type {\n",
       "        vertical-align: middle;\n",
       "    }\n",
       "\n",
       "    .dataframe tbody tr th {\n",
       "        vertical-align: top;\n",
       "    }\n",
       "\n",
       "    .dataframe thead th {\n",
       "        text-align: right;\n",
       "    }\n",
       "</style>\n",
       "<table border=\"1\" class=\"dataframe\">\n",
       "  <thead>\n",
       "    <tr style=\"text-align: right;\">\n",
       "      <th></th>\n",
       "      <th>2014</th>\n",
       "      <th>2015</th>\n",
       "      <th>2016</th>\n",
       "    </tr>\n",
       "  </thead>\n",
       "  <tbody>\n",
       "    <tr>\n",
       "      <th>0</th>\n",
       "      <td>630.0</td>\n",
       "      <td>616.0</td>\n",
       "      <td>656.0</td>\n",
       "    </tr>\n",
       "    <tr>\n",
       "      <th>1</th>\n",
       "      <td>630.0</td>\n",
       "      <td>620.0</td>\n",
       "      <td>594.0</td>\n",
       "    </tr>\n",
       "    <tr>\n",
       "      <th>2</th>\n",
       "      <td>622.0</td>\n",
       "      <td>663.0</td>\n",
       "      <td>694.0</td>\n",
       "    </tr>\n",
       "    <tr>\n",
       "      <th>3</th>\n",
       "      <td>651.0</td>\n",
       "      <td>612.0</td>\n",
       "      <td>649.0</td>\n",
       "    </tr>\n",
       "    <tr>\n",
       "      <th>4</th>\n",
       "      <td>698.0</td>\n",
       "      <td>655.0</td>\n",
       "      <td>630.0</td>\n",
       "    </tr>\n",
       "  </tbody>\n",
       "</table>\n",
       "</div>"
      ],
      "text/plain": [
       "    2014   2015   2016\n",
       "0  630.0  616.0  656.0\n",
       "1  630.0  620.0  594.0\n",
       "2  622.0  663.0  694.0\n",
       "3  651.0  612.0  649.0\n",
       "4  698.0  655.0  630.0"
      ]
     },
     "execution_count": 6,
     "metadata": {},
     "output_type": "execute_result"
    }
   ],
   "source": [
    "imd_ncancelado = imd.loc[~imd['status'].isin(['CANCELADO', 'TRANCADO'])]\n",
    "imd_aprovados = imd.loc[imd['status.disciplina']=='Aprovado']\n",
    "imd_enem2014 = imd[imd['ano_ingresso']==2014]['enen-nota']\n",
    "imd_enem2015 = imd[imd['ano_ingresso']==2015]['enen-nota']\n",
    "imd_enem2016 = imd[imd['ano_ingresso']==2016]['enen-nota']\n",
    "print(imd_enem2014.count(), imd_enem2015.count(), imd_enem2016.count())\n",
    "imd_enem = pd.DataFrame({'2014': np.random.choice(a=imd_enem2014, size=100), \n",
    "                         '2015': np.random.choice(a=imd_enem2015, size=100),\n",
    "                         '2016': np.random.choice(a=imd_enem2016, size=100)})\n",
    "imd_enem.head()"
   ]
  },
  {
   "cell_type": "code",
   "execution_count": 7,
   "metadata": {},
   "outputs": [
    {
     "data": {
      "text/html": [
       "<div>\n",
       "<style scoped>\n",
       "    .dataframe tbody tr th:only-of-type {\n",
       "        vertical-align: middle;\n",
       "    }\n",
       "\n",
       "    .dataframe tbody tr th {\n",
       "        vertical-align: top;\n",
       "    }\n",
       "\n",
       "    .dataframe thead th {\n",
       "        text-align: right;\n",
       "    }\n",
       "</style>\n",
       "<table border=\"1\" class=\"dataframe\">\n",
       "  <thead>\n",
       "    <tr style=\"text-align: right;\">\n",
       "      <th></th>\n",
       "      <th>2014</th>\n",
       "      <th>2015</th>\n",
       "      <th>2016</th>\n",
       "    </tr>\n",
       "  </thead>\n",
       "  <tbody>\n",
       "    <tr>\n",
       "      <th>count</th>\n",
       "      <td>100.000000</td>\n",
       "      <td>100.000000</td>\n",
       "      <td>100.000000</td>\n",
       "    </tr>\n",
       "    <tr>\n",
       "      <th>mean</th>\n",
       "      <td>647.410000</td>\n",
       "      <td>633.950000</td>\n",
       "      <td>650.830000</td>\n",
       "    </tr>\n",
       "    <tr>\n",
       "      <th>std</th>\n",
       "      <td>38.159181</td>\n",
       "      <td>47.120386</td>\n",
       "      <td>42.267081</td>\n",
       "    </tr>\n",
       "    <tr>\n",
       "      <th>min</th>\n",
       "      <td>542.000000</td>\n",
       "      <td>507.000000</td>\n",
       "      <td>513.000000</td>\n",
       "    </tr>\n",
       "    <tr>\n",
       "      <th>25%</th>\n",
       "      <td>622.000000</td>\n",
       "      <td>606.500000</td>\n",
       "      <td>623.000000</td>\n",
       "    </tr>\n",
       "    <tr>\n",
       "      <th>50%</th>\n",
       "      <td>644.500000</td>\n",
       "      <td>628.000000</td>\n",
       "      <td>649.500000</td>\n",
       "    </tr>\n",
       "    <tr>\n",
       "      <th>75%</th>\n",
       "      <td>667.250000</td>\n",
       "      <td>655.000000</td>\n",
       "      <td>672.250000</td>\n",
       "    </tr>\n",
       "    <tr>\n",
       "      <th>max</th>\n",
       "      <td>745.000000</td>\n",
       "      <td>748.000000</td>\n",
       "      <td>808.000000</td>\n",
       "    </tr>\n",
       "  </tbody>\n",
       "</table>\n",
       "</div>"
      ],
      "text/plain": [
       "             2014        2015        2016\n",
       "count  100.000000  100.000000  100.000000\n",
       "mean   647.410000  633.950000  650.830000\n",
       "std     38.159181   47.120386   42.267081\n",
       "min    542.000000  507.000000  513.000000\n",
       "25%    622.000000  606.500000  623.000000\n",
       "50%    644.500000  628.000000  649.500000\n",
       "75%    667.250000  655.000000  672.250000\n",
       "max    745.000000  748.000000  808.000000"
      ]
     },
     "execution_count": 7,
     "metadata": {},
     "output_type": "execute_result"
    }
   ],
   "source": [
    "imd_enem.describe()"
   ]
  },
  {
   "cell_type": "markdown",
   "metadata": {},
   "source": [
    "### Distribuicão das Médias das amostras"
   ]
  },
  {
   "cell_type": "code",
   "execution_count": 8,
   "metadata": {},
   "outputs": [
    {
     "data": {
      "text/html": [
       "<div>\n",
       "<style scoped>\n",
       "    .dataframe tbody tr th:only-of-type {\n",
       "        vertical-align: middle;\n",
       "    }\n",
       "\n",
       "    .dataframe tbody tr th {\n",
       "        vertical-align: top;\n",
       "    }\n",
       "\n",
       "    .dataframe thead th {\n",
       "        text-align: right;\n",
       "    }\n",
       "</style>\n",
       "<table border=\"1\" class=\"dataframe\">\n",
       "  <thead>\n",
       "    <tr style=\"text-align: right;\">\n",
       "      <th></th>\n",
       "      <th>2014</th>\n",
       "      <th>2015</th>\n",
       "      <th>2016</th>\n",
       "    </tr>\n",
       "  </thead>\n",
       "  <tbody>\n",
       "    <tr>\n",
       "      <th>count</th>\n",
       "      <td>1000.000000</td>\n",
       "      <td>1000.000000</td>\n",
       "      <td>1000.000000</td>\n",
       "    </tr>\n",
       "    <tr>\n",
       "      <th>mean</th>\n",
       "      <td>645.939920</td>\n",
       "      <td>630.556620</td>\n",
       "      <td>644.335460</td>\n",
       "    </tr>\n",
       "    <tr>\n",
       "      <th>std</th>\n",
       "      <td>4.385266</td>\n",
       "      <td>4.602642</td>\n",
       "      <td>4.098622</td>\n",
       "    </tr>\n",
       "    <tr>\n",
       "      <th>min</th>\n",
       "      <td>633.580000</td>\n",
       "      <td>615.990000</td>\n",
       "      <td>632.440000</td>\n",
       "    </tr>\n",
       "    <tr>\n",
       "      <th>25%</th>\n",
       "      <td>642.832500</td>\n",
       "      <td>627.437500</td>\n",
       "      <td>641.857500</td>\n",
       "    </tr>\n",
       "    <tr>\n",
       "      <th>50%</th>\n",
       "      <td>645.955000</td>\n",
       "      <td>630.490000</td>\n",
       "      <td>644.245000</td>\n",
       "    </tr>\n",
       "    <tr>\n",
       "      <th>75%</th>\n",
       "      <td>649.130000</td>\n",
       "      <td>633.585000</td>\n",
       "      <td>647.080000</td>\n",
       "    </tr>\n",
       "    <tr>\n",
       "      <th>max</th>\n",
       "      <td>659.740000</td>\n",
       "      <td>643.890000</td>\n",
       "      <td>658.520000</td>\n",
       "    </tr>\n",
       "  </tbody>\n",
       "</table>\n",
       "</div>"
      ],
      "text/plain": [
       "              2014         2015         2016\n",
       "count  1000.000000  1000.000000  1000.000000\n",
       "mean    645.939920   630.556620   644.335460\n",
       "std       4.385266     4.602642     4.098622\n",
       "min     633.580000   615.990000   632.440000\n",
       "25%     642.832500   627.437500   641.857500\n",
       "50%     645.955000   630.490000   644.245000\n",
       "75%     649.130000   633.585000   647.080000\n",
       "max     659.740000   643.890000   658.520000"
      ]
     },
     "execution_count": 8,
     "metadata": {},
     "output_type": "execute_result"
    }
   ],
   "source": [
    "lm2014 = []\n",
    "lm2015 = []\n",
    "lm2016 = []\n",
    "for i in range(1000):\n",
    "    mam2014 = np.mean(np.random.choice(a=imd_enem2014, size=100))\n",
    "    mam2015 = np.mean(np.random.choice(a=imd_enem2015, size=100))\n",
    "    mam2016 = np.mean(np.random.choice(a=imd_enem2016, size=100))\n",
    "    lm2014.append(mam2014)\n",
    "    lm2015.append(mam2015)\n",
    "    lm2016.append(mam2016)\n",
    "imd_enem_amostras = pd.DataFrame({'2014': lm2014, \n",
    "                                  '2015': lm2015,\n",
    "                                  '2016': lm2016})\n",
    "imd_enem_amostras.describe()"
   ]
  },
  {
   "cell_type": "code",
   "execution_count": 9,
   "metadata": {},
   "outputs": [
    {
     "data": {
      "text/plain": [
       "(array([  4.,  12.,  17.,  24.,  45.,  47.,  82., 122., 144., 110., 116.,\n",
       "         97.,  69.,  48.,  35.,  17.,   7.,   3.,   0.,   1.]),\n",
       " array([632.44 , 633.744, 635.048, 636.352, 637.656, 638.96 , 640.264,\n",
       "        641.568, 642.872, 644.176, 645.48 , 646.784, 648.088, 649.392,\n",
       "        650.696, 652.   , 653.304, 654.608, 655.912, 657.216, 658.52 ]),\n",
       " <a list of 20 Patch objects>)"
      ]
     },
     "execution_count": 9,
     "metadata": {},
     "output_type": "execute_result"
    },
    {
     "data": {
      "image/png": "[encoded data removed]",
      "text/plain": [
       "<Figure size 432x288 with 1 Axes>"
      ]
     },
     "metadata": {},
     "output_type": "display_data"
    }
   ],
   "source": [
    "ax = plt.subplot()\n",
    "ax.hist(imd_enem_amostras['2016'], bins=20)"
   ]
  },
  {
   "cell_type": "markdown",
   "metadata": {},
   "source": [
    "### Notas do ENEN"
   ]
  },
  {
   "cell_type": "markdown",
   "metadata": {},
   "source": [
    "### Correlação entre os atributos"
   ]
  },
  {
   "cell_type": "code",
   "execution_count": 10,
   "metadata": {},
   "outputs": [
    {
     "data": {
      "text/plain": [
       "<matplotlib.axes._subplots.AxesSubplot at 0x11229ef28>"
      ]
     },
     "execution_count": 10,
     "metadata": {},
     "output_type": "execute_result"
    },
    {
     "data": {
      "image/png": "[encoded data removed]",
      "text/plain": [
       "<Figure size 432x288 with 2 Axes>"
      ]
     },
     "metadata": {},
     "output_type": "display_data"
    }
   ],
   "source": [
    "imd_corr = imd.corr()\n",
    "ax = plt.subplot()\n",
    "sns.heatmap(imd_corr, square=True)"
   ]
  },
  {
   "cell_type": "markdown",
   "metadata": {},
   "source": [
    "### Histograma de distribuição Normal"
   ]
  },
  {
   "cell_type": "markdown",
   "metadata": {},
   "source": [
    "#### Média da nota do ENEM dos alunos do IMD "
   ]
  },
  {
   "cell_type": "code",
   "execution_count": 11,
   "metadata": {},
   "outputs": [
    {
     "name": "stdout",
     "output_type": "stream",
     "text": [
      "Média Geral IMD ENEM = 639.3363\n"
     ]
    }
   ],
   "source": [
    "imd_enem_media_geral = imd['enen-nota'].mean().mean()\n",
    "print('Média Geral IMD ENEM = {0:.4f}'.format(imd_enem_media_geral))"
   ]
  },
  {
   "cell_type": "code",
   "execution_count": 25,
   "metadata": {},
   "outputs": [],
   "source": [
    "data = imd_enem_amostras['2016']"
   ]
  },
  {
   "cell_type": "markdown",
   "metadata": {},
   "source": [
    "### Normality Test"
   ]
  },
  {
   "cell_type": "code",
   "execution_count": 16,
   "metadata": {},
   "outputs": [
    {
     "data": {
      "image/png": "[encoded data removed]",
      "text/plain": [
       "<Figure size 432x288 with 1 Axes>"
      ]
     },
     "metadata": {},
     "output_type": "display_data"
    }
   ],
   "source": [
    "import numpy.random as random\n",
    "\n",
    "stats.probplot(data, dist=\"norm\", plot=plt)\n",
    "norm=random.normal(0,2,len(data))\n",
    "norm.sort()\n",
    "z = np.polyfit(norm,data, 1)\n",
    "p = np.poly1d(z)\n",
    "plt.show()"
   ]
  },
  {
   "cell_type": "markdown",
   "metadata": {},
   "source": [
    "### Confidence Interval\n",
    "\n",
    "Let $X_1, X_2, X_3, ..., X_n$ be a random sample from a distribution with a parameter $\\Theta$ that is to be estimated. An interval estimator with confidence level $1−\\alpha$ consists of two estimators $\\hat{\\Theta_l}(X_1,X_2, ..., X_n)$ and $\\hat{\\Theta_h}(X_1,X_2, ..., X_n)$ such that\n",
    "\n",
    "$$\n",
    "\\begin{equation}\n",
    "P\\bigg(\\hat{\\Theta_l} \\leq \\theta  \\, \\textrm{and} \\, \\hat{\\Theta_h} \\geq \\theta \\bigg) \\geq 1-\\alpha,\n",
    "\\end{equation}\n",
    "$$\n",
    "\n",
    "for every possible value of $\\Theta$. Equivalently, we say that $[\\hat{\\Theta_l}, \\hat{\\Theta_h}]$ is a $(1−\\alpha)100\\%$ confidence interval for $\\Theta$. \n",
    "\n",
    "#### Para estimar a média, utiliza-se t-student:\n",
    "\n",
    "Assumptions: A random sample $X_1, X_2, X_3, ..., X_n$ is given from a $N(\\mu ,\\sigma^{2})$ distribution, where $\\mu = EX_{i}$ and $Var(X_{i}) = \\sigma^{2}$ are unknown.\n",
    "\n",
    "Parameter to be Estimated: $\\mu = EXi$.\n",
    "\n",
    "Confidence Interval: $\\left[\\overline{X}- z_{\\frac{\\alpha}{2}} \\frac{\\sigma}{\\sqrt{n}} , \\overline{X}+ z_{\\frac{\\alpha}{2}} \\frac{\\sigma}{\\sqrt{n}}\\right]$ is a $(1−\\alpha)$ confidence interval for $\\mu$. "
   ]
  },
  {
   "cell_type": "code",
   "execution_count": 51,
   "metadata": {},
   "outputs": [
    {
     "name": "stdout",
     "output_type": "stream",
     "text": [
      "Mean= 633.9500, Sigma= 47.1204\n",
      "Estimativa da média das notas do ENEM dos ingressante no IMD\n",
      "Com intervalo de confiaça de 95.0% está entre:\n",
      "Limite inferior=624.7146, Limite superior=643.1854\n"
     ]
    }
   ],
   "source": [
    "import math\n",
    "\n",
    "data = imd_enem['2015']\n",
    "alpha = 0.05\n",
    "mean, sigma = data.mean(), data.std(ddof=1)\n",
    "print('Mean= {0:.4f}, Sigma= {1:.4f}'.format(mean,sigma))\n",
    "inf, sup = stats.norm.interval((1-alpha), loc=mean, scale=sigma/math.sqrt(len(data)))\n",
    "#inf, sup = stats.t.interval((1-alpha), loc=mean, scale=sigma/math.sqrt(len(data)), df=99)\n",
    "print('Estimativa da média das notas do ENEM dos ingressante no IMD')\n",
    "print('Com intervalo de confiaça de {0:.1f}% está entre:'.format(100*(1-alpha)))\n",
    "print('Limite inferior={0:.4f}, Limite superior={1:.4f}'.format(inf,sup))"
   ]
  },
  {
   "cell_type": "code",
   "execution_count": 52,
   "metadata": {},
   "outputs": [],
   "source": [
    "#print('Quant. abaixo do Limite Inf: {}'.format(data.loc[data<inf].count()))\n",
    "#print('Quant. acima do Limite Sup: {}'.format(data.loc[data>sup].count()))"
   ]
  },
  {
   "cell_type": "markdown",
   "metadata": {},
   "source": [
    "### Hyphoteses Test\n",
    "\n"
   ]
  },
  {
   "cell_type": "markdown",
   "metadata": {},
   "source": [
    "#### H0: A média do Enem de uma amostra de 2016 é igual a média geral"
   ]
  },
  {
   "cell_type": "code",
   "execution_count": 53,
   "metadata": {},
   "outputs": [
    {
     "data": {
      "text/plain": [
       "Ttest_1sampResult(statistic=-1.143085238615807, pvalue=0.2557599376975)"
      ]
     },
     "execution_count": 53,
     "metadata": {},
     "output_type": "execute_result"
    }
   ],
   "source": [
    "stats.ttest_1samp(a = data, popmean=imd_enem_media_geral)"
   ]
  },
  {
   "cell_type": "markdown",
   "metadata": {},
   "source": [
    "#### Quantils dos limites de aceitação"
   ]
  },
  {
   "cell_type": "code",
   "execution_count": 43,
   "metadata": {},
   "outputs": [
    {
     "data": {
      "text/plain": [
       "-1.9842169515086832"
      ]
     },
     "execution_count": 43,
     "metadata": {},
     "output_type": "execute_result"
    }
   ],
   "source": [
    "stats.t.ppf(q=0.025,  # Quantile to check\n",
    "            df=99)   # Degrees of freedom"
   ]
  },
  {
   "cell_type": "code",
   "execution_count": 44,
   "metadata": {},
   "outputs": [
    {
     "data": {
      "text/plain": [
       "1.9842169515086827"
      ]
     },
     "execution_count": 44,
     "metadata": {},
     "output_type": "execute_result"
    }
   ],
   "source": [
    "stats.t.ppf(q=0.975,  # Quantile to check\n",
    "            df=99)  # Degrees of freedom"
   ]
  },
  {
   "cell_type": "markdown",
   "metadata": {},
   "source": [
    "### H0 Rejeitada porque o 'Statistic Test' está fora dos limites de aceitação\n",
    "\n",
    "2.72 está fora do intervalo: -1,98 : 1,98\n"
   ]
  },
  {
   "cell_type": "markdown",
   "metadata": {},
   "source": [
    "#### Calculando o P-Value\n",
    "\n",
    "P-value is the lowest significance level α that results in rejecting the null hypothesis"
   ]
  },
  {
   "cell_type": "code",
   "execution_count": 54,
   "metadata": {},
   "outputs": [
    {
     "data": {
      "text/plain": [
       "0.2557599376975"
      ]
     },
     "execution_count": 54,
     "metadata": {},
     "output_type": "execute_result"
    }
   ],
   "source": [
    "stats.t.cdf(x=-1.143085238615807,      # T-test statistic\n",
    "               df= 99)*2    # Mupltiply by two for two tailed test*"
   ]
  },
  {
   "cell_type": "code",
   "execution_count": null,
   "metadata": {},
   "outputs": [],
   "source": []
  }
 ],
 "metadata": {
  "kernelspec": {
   "display_name": "Python 3",
   "language": "python",
   "name": "python3"
  },
  "language_info": {
   "codemirror_mode": {
    "name": "ipython",
    "version": 3
   },
   "file_extension": ".py",
   "mimetype": "text/x-python",
   "name": "python",
   "nbconvert_exporter": "python",
   "pygments_lexer": "ipython3",
   "version": "3.6.5"
  }
 },
 "nbformat": 4,
 "nbformat_minor": 2
}
